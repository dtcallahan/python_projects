{
 "cells": [
  {
   "cell_type": "code",
   "execution_count": 1,
   "id": "c622f1be-753e-4da2-89b2-9dd24d55640e",
   "metadata": {},
   "outputs": [],
   "source": [
    "import pandas as pd\n",
    "import rasterio\n",
    "import numpy as np\n",
    "import glob\n",
    "from lab5functions import slopeAspect, reclassAspect, reclassByHisto"
   ]
  },
  {
   "cell_type": "code",
   "execution_count": 10,
   "id": "93ba3bad-ea85-4688-bdcc-37b5c287d38a",
   "metadata": {},
   "outputs": [],
   "source": [
    "#creating zonal stats function\n",
    "def getZonalStatsTable(value_raster, zone_raster):\n",
    "    '''\n",
    "    Function that calculates the mean, standard deviation, min, max and count of the value_raster based on\n",
    "    distinct zones within the zonal_raster. Numpy as np and Pandas as pd are required.\n",
    "    '''\n",
    "    distinct_zones = np.unique(zone_raster)\n",
    "    df = pd.DataFrame(columns=['zone', 'mean', 'max', 'min', 'stdev', 'count'])\n",
    "    df['zone'] = distinct_zones[~np.isnan(distinct_zones)].astype(int)\n",
    "    for zone in df['zone']:\n",
    "        inZone = value_raster[zone_raster == zone]\n",
    "        df.at[df['zone'] == zone,'mean'] = inZone.mean()\n",
    "        df.at[df['zone'] == zone,'max'] = inZone.max()\n",
    "        df.at[df['zone'] == zone,'min'] = inZone.min()\n",
    "        df.at[df['zone'] == zone,'stdev'] = inZone.std()\n",
    "        df.at[df['zone'] == zone,'count'] = (zone_raster == zone).sum()\n",
    "        \n",
    "    return df"
   ]
  },
  {
   "cell_type": "code",
   "execution_count": 11,
   "id": "3db0a0e8-d895-4c7f-b532-6ae341ccc91c",
   "metadata": {},
   "outputs": [],
   "source": [
    "#set up data and data directories\n",
    "TIF_DATA_DIR = r'C:\\Users\\delaney\\Desktop\\geog5092_workspace\\lab5\\data'\n",
    "LANDSAT_DATA_DIR = r'C:\\Users\\delaney\\Desktop\\geog5092_workspace\\lab5\\data\\L5_big_elk'\n",
    "OUT_DATA_DIR = r'C:\\Users\\delaney\\Desktop\\geog5092_workspace\\lab5\\output_data'\n",
    "\n",
    "tifs = sorted(glob.glob(TIF_DATA_DIR + r'\\*.tif'))\n",
    "landsats = sorted(glob.glob(LANDSAT_DATA_DIR + r'\\*tif'))"
   ]
  },
  {
   "cell_type": "code",
   "execution_count": 12,
   "id": "d1eba9e1-c7e8-4223-8abe-009c1e44f1a5",
   "metadata": {},
   "outputs": [],
   "source": [
    "#opening/reading DEM\n",
    "with rasterio.open(tifs[0]) as DEM:\n",
    "    DEM_cell_size = DEM.transform[0]\n",
    "    DEM_array = DEM.read(1)\n",
    "    \n",
    "    #calculating slope and aspect\n",
    "    slp, aspect = slopeAspect(DEM_array, DEM_cell_size)\n",
    "    \n",
    "    #reclassifying aspect to cardinal directions\n",
    "    reclass_aspect = reclassAspect(aspect)\n",
    "    \n",
    "    #reclassify the slope into 10 bins\n",
    "    reclass_slope = reclassByHisto(slp, 10)"
   ]
  },
  {
   "cell_type": "code",
   "execution_count": 13,
   "id": "c1553c67-8460-4228-94ef-1db978e226f2",
   "metadata": {},
   "outputs": [
    {
     "name": "stdout",
     "output_type": "stream",
     "text": [
      "Mean recovery ratio for the year 2002: 0.411\n",
      "Mean recovery ratio for the year 2003: 0.541\n",
      "Mean recovery ratio for the year 2004: 0.513\n",
      "Mean recovery ratio for the year 2005: 0.615\n",
      "Mean recovery ratio for the year 2006: 0.716\n",
      "Mean recovery ratio for the year 2007: 0.705\n",
      "Mean recovery ratio for the year 2008: 0.74\n",
      "Mean recovery ratio for the year 2009: 0.713\n",
      "Mean recovery ratio for the year 2010: 0.585\n",
      "Mean recovery ratio for the year 2011: 0.626\n"
     ]
    }
   ],
   "source": [
    "#reading in the fire perimeter data\n",
    "with rasterio.open(tifs[1]) as fire_perimeter:\n",
    "    fire_area = fire_perimeter.read(1)\n",
    "\n",
    "#prepping data for calculations\n",
    "band3s = []\n",
    "band4s = []\n",
    "RR_arrays = []\n",
    "\n",
    "for image in landsats:\n",
    "    if 'B3' in image:\n",
    "        band3s.append(image)\n",
    "    if 'B4' in image:\n",
    "        band4s.append(image)\n",
    "\n",
    "index = 0\n",
    "yr = 2002\n",
    "while index < 10:\n",
    "    with rasterio.open(band3s[index]) as band3:\n",
    "        band3_array = band3.read(1)\n",
    "    with rasterio.open(band4s[index]) as band4:\n",
    "        band4_array = band4.read(1)\n",
    "    index += 1\n",
    "    \n",
    "    #NDVI calculations\n",
    "    NDVI = (band4_array - band3_array) / (band4_array + band3_array)\n",
    "    mean_healthy_NDVI = NDVI[fire_area == 2].mean()\n",
    "    \n",
    "    #recovery ratio calculation\n",
    "    RR = NDVI / mean_healthy_NDVI\n",
    "    RR_arrays.append(RR.flatten())\n",
    "    \n",
    "    #final print statements\n",
    "    print(f'Mean recovery ratio for the year {yr}:', round(RR[fire_area == 1].mean(), 3))\n",
    "    yr += 1"
   ]
  },
  {
   "cell_type": "code",
   "execution_count": 14,
   "id": "7265e920-7276-4d6c-8283-662f7ca59da6",
   "metadata": {
    "tags": []
   },
   "outputs": [
    {
     "name": "stdout",
     "output_type": "stream",
     "text": [
      "Mean coefficient of recovery across all years for the burned area: 0.02179563\n"
     ]
    }
   ],
   "source": [
    "#calculating the trend of the RR\n",
    "CoR = np.zeros_like(RR_arrays[0])\n",
    "xs = range(10)\n",
    "for pixel in range(RR_arrays[0].size):\n",
    "    ys = [a[pixel] for a in RR_arrays]\n",
    "    CoR[pixel] = np.polyfit(xs, ys, 1)[0]\n",
    "CoR = CoR.reshape(band3_array.shape)\n",
    "print('Mean coefficient of recovery across all years for the burned area:', CoR[fire_area == 1].mean())\n",
    "CoR[fire_area != 1] = np.nan"
   ]
  },
  {
   "cell_type": "code",
   "execution_count": 15,
   "id": "7978ddbf-d047-4a49-8bb8-89be68a5a2bd",
   "metadata": {},
   "outputs": [],
   "source": [
    "#calling zonal statistics function and creating two output csvs to out data directory\n",
    "aspect_burned = np.where(fire_area == 1, reclass_aspect, np.nan)\n",
    "slope_burned = np.where(fire_area == 1, reclass_slope, np.nan)\n",
    "\n",
    "getZonalStatsTable(CoR, aspect_burned).to_csv(OUT_DATA_DIR + r'\\aspect_stats.csv', index = False)\n",
    "getZonalStatsTable(CoR, slope_burned).to_csv(OUT_DATA_DIR + r'\\slope_stats.csv', index = False)"
   ]
  },
  {
   "cell_type": "code",
   "execution_count": 16,
   "id": "f022d509-3b83-4839-916a-6037231ac551",
   "metadata": {},
   "outputs": [],
   "source": [
    "#writing the CoR array as a geotiff\n",
    "template = rasterio.open(tifs[1])\n",
    "\n",
    "with rasterio.open(OUT_DATA_DIR + r'\\CoR_raster.tif', 'w',\n",
    "                   driver = 'GTiff',\n",
    "                   height = CoR.shape[0],\n",
    "                   width = CoR.shape[1],\n",
    "                   count = 1,\n",
    "                   dtype = np.float32,\n",
    "                   transform = template.transform,\n",
    "                   crs = template.crs,\n",
    "                   nodata = -99\n",
    ") as out_raster:\n",
    "    CoR = CoR.astype(np.float32)\n",
    "    out_raster.write(CoR, indexes = 1)"
   ]
  },
  {
   "cell_type": "code",
   "execution_count": 17,
   "id": "eca1fbf7-1b99-4d16-8038-6526071578ed",
   "metadata": {},
   "outputs": [
    {
     "name": "stdout",
     "output_type": "stream",
     "text": [
      "After a wildfire event, I would expect that southwest facing slopes display better vegetation recovery compared \n",
      "to other aspects due to better sunlight exposure. However, the data suggests that recovery was higher on more \n",
      "northern facing slopes. Slope displayed better rates of recovery on less steep slopes, which was as expected.\n"
     ]
    }
   ],
   "source": [
    "#conclusions\n",
    "print('After a wildfire event, I would expect that southwest facing slopes display better vegetation recovery compared \\nto other aspects due to better sunlight exposure. However, the data suggests that recovery was higher on more \\nnorthern facing slopes. Slope displayed better rates of recovery on less steep slopes, which was as expected.')"
   ]
  }
 ],
 "metadata": {
  "kernelspec": {
   "display_name": "Python 3 (ipykernel)",
   "language": "python",
   "name": "python3"
  },
  "language_info": {
   "codemirror_mode": {
    "name": "ipython",
    "version": 3
   },
   "file_extension": ".py",
   "mimetype": "text/x-python",
   "name": "python",
   "nbconvert_exporter": "python",
   "pygments_lexer": "ipython3",
   "version": "3.7.10"
  }
 },
 "nbformat": 4,
 "nbformat_minor": 5
}
