{
 "cells": [
  {
   "cell_type": "code",
   "execution_count": 1,
   "id": "e3e359fb-11f1-4372-9acb-2a3770816c23",
   "metadata": {},
   "outputs": [],
   "source": [
    "import glob\n",
    "import numpy as np\n",
    "import rasterio\n",
    "from rasterio.plot import show\n",
    "from lab5functions import slopeAspect, reclassAspect"
   ]
  },
  {
   "cell_type": "code",
   "execution_count": 2,
   "id": "f88322c5-22e2-4006-b205-9ca1ecd5947b",
   "metadata": {},
   "outputs": [],
   "source": [
    "IN_DATA_DIR = r'C:\\Users\\delaney\\Desktop\\geog5092_workspace\\final_project\\in_data'\n",
    "OUT_DATA_DIR = r'C:\\Users\\delaney\\Desktop\\geog5092_workspace\\final_project\\out_data'\n",
    "\n",
    "master_crs = 'epsg:26955'\n",
    "\n",
    "tifs = sorted(glob.glob(IN_DATA_DIR + r'\\*.tif'))"
   ]
  },
  {
   "cell_type": "code",
   "execution_count": 3,
   "id": "7e6098ba-7198-4c17-977d-a9102168fa42",
   "metadata": {},
   "outputs": [
    {
     "name": "stderr",
     "output_type": "stream",
     "text": [
      "C:\\Users\\delaney\\Desktop\\geog5092_workspace\\final_project\\lab5functions.py:31: RuntimeWarning: overflow encountered in square\n",
      "  slp = np.arctan((dzdx ** 2 + dzdy ** 2) ** 0.5) * 180 / pi\n"
     ]
    }
   ],
   "source": [
    "with rasterio.open(tifs[0]) as DEM:\n",
    "    DEM_array = DEM.read(1)\n",
    "    slp, aspect = slopeAspect(DEM_array, 30)\n",
    "    reclass_aspect = reclassAspect(aspect)\n",
    "    slope_suit = np.where((slp > 0) & (slp <= 15), 0,\n",
    "             np.where((slp > 15) & (slp <= 30), 1,\n",
    "             np.where((slp > 30) & (slp <= 45), 2,\n",
    "             np.where((slp > 45) & (slp <= 60), 3,\n",
    "             np.where((slp > 60) & (slp <= 90), 4, 0)))))\n",
    "    aspect_suit = np.where((reclass_aspect == 4) | (reclass_aspect == 5) | (reclass_aspect == 6), 1, 0)\n",
    "\n",
    "with rasterio.open(tifs[1]) as roads:\n",
    "    roads_array = roads.read(1)\n",
    "    roads_suit = np.where(roads_array == 1, 0, 1)\n",
    "\n",
    "with rasterio.open(tifs[2]) as trails:\n",
    "    trails_array = trails.read(1)\n",
    "    trails_suit = np.where(trails_array == 1, 0, 1)"
   ]
  },
  {
   "cell_type": "code",
   "execution_count": 4,
   "id": "92950cfb-96f4-4e79-b49b-4a7e230d7aee",
   "metadata": {},
   "outputs": [],
   "source": [
    "full_sum = roads_suit + trails_suit + slope_suit + aspect_suit\n",
    "top_sites = np.where(full_sum >= 5, 1, 0)"
   ]
  },
  {
   "cell_type": "code",
   "execution_count": 5,
   "id": "106167e4-19b0-48fa-a7a2-1f9ad2a0bc20",
   "metadata": {},
   "outputs": [
    {
     "name": "stdout",
     "output_type": "stream",
     "text": [
      "Total area of the top nesting sites: 17.06 sq. km.\n"
     ]
    }
   ],
   "source": [
    "top_unique, top_counts = np.unique(top_sites, return_counts = True)\n",
    "\n",
    "n = 900\n",
    "top_area = (np.multiply(top_counts[1], n))/1000000\n",
    "\n",
    "print('Total area of the top nesting sites:', round(top_area, 2), 'sq. km.')"
   ]
  },
  {
   "cell_type": "code",
   "execution_count": 6,
   "id": "caff5a08-d9d0-493a-a74c-74d43fdc40fb",
   "metadata": {},
   "outputs": [
    {
     "name": "stdout",
     "output_type": "stream",
     "text": [
      "Export 1 complete.\n",
      "Export 2 complete.\n"
     ]
    }
   ],
   "source": [
    "template = rasterio.open(tifs[0])\n",
    "\n",
    "with rasterio.open(OUT_DATA_DIR + r'\\top_sites.tif', 'w',\n",
    "                   driver = 'GTiff',\n",
    "                   height = top_sites.shape[0],\n",
    "                   width = top_sites.shape[1],\n",
    "                   count = 1,\n",
    "                   dtype = 'int8',\n",
    "                   transform = template.transform,\n",
    "                   crs = master_crs,\n",
    "                   nodata = 0\n",
    ") as out_raster:\n",
    "    top_sites = top_sites.astype('int8')\n",
    "    out_raster.write(top_sites, indexes = 1)\n",
    "    \n",
    "print(\"Export 1 complete.\")\n",
    "\n",
    "\n",
    "with rasterio.open(OUT_DATA_DIR + r'\\full_sum.tif', 'w',\n",
    "                   driver = 'GTiff',\n",
    "                   height = full_sum.shape[0],\n",
    "                   width = full_sum.shape[1],\n",
    "                   count = 1,\n",
    "                   dtype = 'int8',\n",
    "                   transform = template.transform,\n",
    "                   crs = master_crs,\n",
    "                   nodata = 0\n",
    ") as out_raster:\n",
    "    full_sum = full_sum.astype('int8')\n",
    "    out_raster.write(full_sum, indexes = 1)\n",
    "\n",
    "print(\"Export 2 complete.\")"
   ]
  }
 ],
 "metadata": {
  "kernelspec": {
   "display_name": "Python 3 (ipykernel)",
   "language": "python",
   "name": "python3"
  },
  "language_info": {
   "codemirror_mode": {
    "name": "ipython",
    "version": 3
   },
   "file_extension": ".py",
   "mimetype": "text/x-python",
   "name": "python",
   "nbconvert_exporter": "python",
   "pygments_lexer": "ipython3",
   "version": "3.7.10"
  }
 },
 "nbformat": 4,
 "nbformat_minor": 5
}
