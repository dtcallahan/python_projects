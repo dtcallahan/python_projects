{
 "cells": [
  {
   "cell_type": "code",
   "execution_count": 1,
   "id": "941b963b-fabd-49f9-8db8-3bc01af281e8",
   "metadata": {},
   "outputs": [],
   "source": [
    "#get the goods\n",
    "\n",
    "import pandas as pd\n",
    "import geopandas as gpd\n",
    "import fiona\n",
    "import random\n",
    "import numpy as np\n",
    "import rasterio\n",
    "from shapely.geometry import Point"
   ]
  },
  {
   "cell_type": "code",
   "execution_count": 2,
   "id": "53343546-4af3-468f-a58e-b5a02cc1e9e1",
   "metadata": {},
   "outputs": [],
   "source": [
    "#creating a function that will calculate the extent of a polygon automatically\n",
    "\n",
    "def get_extent(poly):\n",
    "    extent = poly.bounds\n",
    "    dict = {'minX' : extent[0],\n",
    "            'minY' : extent[1],\n",
    "            'maxX' : extent[2],\n",
    "            'maxY' : extent[3]\n",
    "           }\n",
    "    return(dict)"
   ]
  },
  {
   "cell_type": "code",
   "execution_count": 3,
   "id": "8fdfa4cf-a474-4198-b517-835fe3cf8c39",
   "metadata": {},
   "outputs": [],
   "source": [
    "#preparing data\n",
    "\n",
    "data_dir = '../lab3/lab3.gpkg'\n",
    "master_crs = \"EPSG:26913\"\n",
    "density = 0.05\n",
    "random.seed(0)\n",
    "index = 0\n",
    "\n",
    "layers = fiona.listlayers(data_dir)\n",
    "watersheds = [] \n",
    "for layer_name in layers:\n",
    "    if layer_name.startswith('wdb'):\n",
    "        watersheds.append(layer_name)"
   ]
  },
  {
   "cell_type": "code",
   "execution_count": 4,
   "id": "9e33faa4-4354-4bcb-accf-b718341a3144",
   "metadata": {
    "tags": []
   },
   "outputs": [
    {
     "name": "stdout",
     "output_type": "stream",
     "text": [
      "St. Vrain watershed - HUC8 derived point sample: mean aws0150 = 11.473189655172416 \n",
      "Big Thompson watershed - HUC8 derived point sample: mean aws0150 = 7.8777884615384615 \n",
      "Cache La Poudre watershed - HUC8 derived point sample: mean aws0150 = 11.386864406779662\n",
      "St. Vrain watershed - HUC12 derived point sample mean aws0150 = 10.84136 \n",
      "Big Thompson watershed - HUC12 derived point sample: mean aws0150 = 10.492456140350878 \n",
      "Cache La Poudre watershed - HUC12 derived point sample: mean aws0150 = 10.6236820083682\n"
     ]
    }
   ],
   "source": [
    "#parts 1 and 2 done concurrently\n",
    "\n",
    "for each_layer in watersheds:\n",
    "    sample_points =  {'huc_id':[],\n",
    "                      'geometry':[]\n",
    "                     }\n",
    "    w = gpd.read_file(data_dir, layer = each_layer)\n",
    "    for idx, row in w.iterrows():\n",
    "        extent = get_extent(row.geometry)\n",
    "        area_km = row['geometry'].area/10**6\n",
    "        n = round(density * area_km)\n",
    "        for i in range(n):\n",
    "            intersects = False\n",
    "            while intersects == False:\n",
    "                x = random.uniform(extent['minX'], extent['maxX'])\n",
    "                y = random.uniform(extent['minY'], extent['maxY'])\n",
    "                point = Point(x,y)\n",
    "                results = row['geometry'].intersects(point)\n",
    "                if results == True:\n",
    "                    sample_points['huc_id'].append(row[0][:8])\n",
    "                    sample_points['geometry'].append(point)\n",
    "                    intersects = True\n",
    "    points_gdf = gpd.GeoDataFrame(sample_points, crs = master_crs, geometry = 'geometry')\n",
    "    soils_gdf = gpd.read_file(data_dir, crs = master_crs, layer = 'ssurgo_mapunits_lab3')\n",
    "    intersect = gpd.overlay(points_gdf, soils_gdf, how = 'intersection')\n",
    "    results = intersect.groupby(['huc_id'])['aws0150'].mean()\n",
    "    if index < 1:\n",
    "        index += 1\n",
    "        print(\"St. Vrain watershed - HUC8 derived point sample: mean aws0150 =\", results[0],\n",
    "              \"\\nBig Thompson watershed - HUC8 derived point sample: mean aws0150 =\", results[1],\n",
    "              \"\\nCache La Poudre watershed - HUC8 derived point sample: mean aws0150 =\", results[2])\n",
    "    else:\n",
    "        print(\"St. Vrain watershed - HUC12 derived point sample mean aws0150 =\", results[0],\n",
    "              \"\\nBig Thompson watershed - HUC12 derived point sample: mean aws0150 =\", results[1],\n",
    "              \"\\nCache La Poudre watershed - HUC12 derived point sample: mean aws0150 =\", results[2])"
   ]
  }
 ],
 "metadata": {
  "kernelspec": {
   "display_name": "Python 3 (ipykernel)",
   "language": "python",
   "name": "python3"
  },
  "language_info": {
   "codemirror_mode": {
    "name": "ipython",
    "version": 3
   },
   "file_extension": ".py",
   "mimetype": "text/x-python",
   "name": "python",
   "nbconvert_exporter": "python",
   "pygments_lexer": "ipython3",
   "version": "3.7.10"
  }
 },
 "nbformat": 4,
 "nbformat_minor": 5
}
