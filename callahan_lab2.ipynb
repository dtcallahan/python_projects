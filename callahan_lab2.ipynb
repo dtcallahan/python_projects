{
 "cells": [
  {
   "cell_type": "code",
   "execution_count": 1,
   "id": "f0e97873-43d3-4373-a435-872b1216bf58",
   "metadata": {},
   "outputs": [],
   "source": [
    "import pandas as pd\n",
    "import geopandas as gpd\n",
    "import shapely\n",
    "import glob\n",
    "from shapely.geometry import Polygon\n",
    "import rasterstats\n",
    "from rasterstats import zonal_stats"
   ]
  },
  {
   "cell_type": "code",
   "execution_count": 2,
   "id": "e9348b69-ddd9-46a0-845e-7e87a9d8ff05",
   "metadata": {
    "tags": []
   },
   "outputs": [],
   "source": [
    "#part 1, step 1:\n",
    "#creating a list of x,y pairs for each district\n",
    "\n",
    "d01_xy = []\n",
    "d05_xy = []\n",
    "d06_xy = []\n",
    "\n",
    "with open('district01.txt') as d01, open('district05.txt') as d05, open('district06.txt') as d06:\n",
    "    for line in d01:\n",
    "        coords = line.split()\n",
    "        if coords[0] != 'X':\n",
    "            d01_xy.append((float(coords[0]), float(coords[1])))\n",
    "    for line in d05:\n",
    "        coords = line.split()\n",
    "        if coords[0] != 'X':\n",
    "            d05_xy.append((float(coords[0]), float(coords[1])))\n",
    "    for line in d06:\n",
    "        coords = line.split()\n",
    "        if coords[0] != 'X':\n",
    "            d06_xy.append((float(coords[0]), float(coords[1])))"
   ]
  },
  {
   "cell_type": "code",
   "execution_count": 3,
   "id": "da446503-3838-40cc-824b-09a58f58448d",
   "metadata": {},
   "outputs": [],
   "source": [
    "#part 1, step 2:\n",
    "#creating polygons for each district\n",
    "\n",
    "d01_poly = Polygon(d01_xy)\n",
    "d05_poly = Polygon(d05_xy)\n",
    "d06_poly = Polygon(d06_xy)\n",
    "\n",
    "\n",
    "#creating a master data dictionary to hold all the data needed\n",
    "\n",
    "districts = {'dist':['01', '05', '06'],\n",
    "            'num_coords':[len(d01_xy), len(d05_xy), len(d06_xy)],\n",
    "            'geom':[d01_poly, d05_poly, d06_poly]\n",
    "            }\n",
    "\n",
    "\n",
    "#building a data frame and geodataframe off the master data dictionary\n",
    "\n",
    "df = pd.DataFrame(districts)\n",
    "gdf = gpd.GeoDataFrame(df, crs=\"EPSG:4326\", geometry='geom')"
   ]
  },
  {
   "cell_type": "code",
   "execution_count": 4,
   "id": "c07b061e-9a04-4147-9102-6c87a40c6f9b",
   "metadata": {},
   "outputs": [],
   "source": [
    "#part 2, step 1:\n",
    "#creating the final dictionaries to hold the final output\n",
    "#doing the maths to calculate total pixels, agricutural pixels, and percentage agriculture in each district in 2004 and 2009\n",
    "\n",
    "files = glob.glob('../lab2/*.tif')\n",
    "\n",
    "results = {'districts':['01', '05', '06', '01', '05', '06'],\n",
    "           'year':['2004', '2004', '2004', '2009', '2009', '2009'],\n",
    "           'percent_ag':[]\n",
    "          }\n",
    "\n",
    "for file_name in files:\n",
    "    zs = pd.DataFrame(zonal_stats(gdf, file_name, stats = ['sum', 'count']))\n",
    "    ag_pixels = list(zs['sum'])\n",
    "    total_pixels = list(zs['count'])\n",
    "    percent_ag = [a/b for a, b in zip(ag_pixels, total_pixels)]\n",
    "    for each_line in percent_ag:\n",
    "        results['percent_ag'].append((each_line)*100)\n",
    "    \n",
    "df_results = pd.DataFrame(results)"
   ]
  },
  {
   "cell_type": "code",
   "execution_count": 5,
   "id": "cbd79b30-716e-45fc-9709-022a4a5cea83",
   "metadata": {},
   "outputs": [
    {
     "data": {
      "text/html": [
       "<div>\n",
       "<style scoped>\n",
       "    .dataframe tbody tr th:only-of-type {\n",
       "        vertical-align: middle;\n",
       "    }\n",
       "\n",
       "    .dataframe tbody tr th {\n",
       "        vertical-align: top;\n",
       "    }\n",
       "\n",
       "    .dataframe thead th {\n",
       "        text-align: right;\n",
       "    }\n",
       "</style>\n",
       "<table border=\"1\" class=\"dataframe\">\n",
       "  <thead>\n",
       "    <tr style=\"text-align: right;\">\n",
       "      <th></th>\n",
       "      <th>districts</th>\n",
       "      <th>year</th>\n",
       "      <th>percent_ag</th>\n",
       "    </tr>\n",
       "  </thead>\n",
       "  <tbody>\n",
       "    <tr>\n",
       "      <th>0</th>\n",
       "      <td>01</td>\n",
       "      <td>2004</td>\n",
       "      <td>40.002673</td>\n",
       "    </tr>\n",
       "    <tr>\n",
       "      <th>1</th>\n",
       "      <td>05</td>\n",
       "      <td>2004</td>\n",
       "      <td>35.722357</td>\n",
       "    </tr>\n",
       "    <tr>\n",
       "      <th>2</th>\n",
       "      <td>06</td>\n",
       "      <td>2004</td>\n",
       "      <td>45.835598</td>\n",
       "    </tr>\n",
       "    <tr>\n",
       "      <th>3</th>\n",
       "      <td>01</td>\n",
       "      <td>2009</td>\n",
       "      <td>55.108631</td>\n",
       "    </tr>\n",
       "    <tr>\n",
       "      <th>4</th>\n",
       "      <td>05</td>\n",
       "      <td>2009</td>\n",
       "      <td>34.700027</td>\n",
       "    </tr>\n",
       "    <tr>\n",
       "      <th>5</th>\n",
       "      <td>06</td>\n",
       "      <td>2009</td>\n",
       "      <td>45.322060</td>\n",
       "    </tr>\n",
       "  </tbody>\n",
       "</table>\n",
       "</div>"
      ],
      "text/plain": [
       "  districts  year  percent_ag\n",
       "0        01  2004   40.002673\n",
       "1        05  2004   35.722357\n",
       "2        06  2004   45.835598\n",
       "3        01  2009   55.108631\n",
       "4        05  2009   34.700027\n",
       "5        06  2009   45.322060"
      ]
     },
     "execution_count": 5,
     "metadata": {},
     "output_type": "execute_result"
    }
   ],
   "source": [
    "#part 2, step 2: \n",
    "#final print statement\n",
    "\n",
    "df_results"
   ]
  }
 ],
 "metadata": {
  "kernelspec": {
   "display_name": "Python 3 (ipykernel)",
   "language": "python",
   "name": "python3"
  },
  "language_info": {
   "codemirror_mode": {
    "name": "ipython",
    "version": 3
   },
   "file_extension": ".py",
   "mimetype": "text/x-python",
   "name": "python",
   "nbconvert_exporter": "python",
   "pygments_lexer": "ipython3",
   "version": "3.7.10"
  }
 },
 "nbformat": 4,
 "nbformat_minor": 5
}
