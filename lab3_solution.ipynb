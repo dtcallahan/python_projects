{
 "cells": [
  {
   "cell_type": "code",
   "execution_count": 25,
   "metadata": {},
   "outputs": [],
   "source": [
    "import geopandas as gpd\n",
    "import random\n",
    "import fiona\n",
    "from shapely.geometry import Point"
   ]
  },
  {
   "cell_type": "code",
   "execution_count": 14,
   "metadata": {},
   "outputs": [],
   "source": [
    "gpkg = './lab3.gpkg'\n",
    "layers = fiona.listlayers(gpkg)"
   ]
  },
  {
   "cell_type": "code",
   "execution_count": 15,
   "metadata": {},
   "outputs": [],
   "source": [
    "random.seed(0)"
   ]
  },
  {
   "cell_type": "code",
   "execution_count": 16,
   "metadata": {},
   "outputs": [],
   "source": [
    "soils = [layer for layer in layers if 'ssurgo' in layer]\n",
    "sheds = [layer for layer in layers if 'wdb' in layer]"
   ]
  },
  {
   "cell_type": "code",
   "execution_count": 70,
   "metadata": {},
   "outputs": [
    {
     "name": "stdout",
     "output_type": "stream",
     "text": [
      "wdbhuc8 sampling of aws0150 for watershed:  10190005 was:  11.298181818181826\n",
      "wdbhuc8 sampling of aws0150 for watershed:  10190006 was:  10.99811881188119\n",
      "wdbhuc8 sampling of aws0150 for watershed:  10190007 was:  10.937999999999997\n",
      "wdbhuc12 sampling of aws0150 for watershed:  10190005 was:  11.330305343511455\n",
      "wdbhuc12 sampling of aws0150 for watershed:  10190006 was:  10.746725663716816\n",
      "wdbhuc12 sampling of aws0150 for watershed:  10190007 was:  11.475400843881843\n"
     ]
    }
   ],
   "source": [
    "ssurgo_gdf = gpd.read_file(gpkg, layer=soils[0])\n",
    "for shed in sheds:\n",
    "    point_samples = {'huc': [], 'geometry': []}\n",
    "    \n",
    "    shed_gdf = gpd.read_file(gpkg, layer=shed)\n",
    "    huc_column_name = [column for column in shed_gdf.columns if 'HUC' in column][0]\n",
    "    for idx, row in shed_gdf.iterrows():\n",
    "        # https://geopandas.org/reference.html#geopandas.GeoSeries.bounds\n",
    "        extent = row.geometry.bounds\n",
    "        density = round(0.05 * row.geometry.area / 1000000)\n",
    "        cntr = 0\n",
    "        while cntr < density:\n",
    "            point = Point(random.uniform(extent[0], extent[2]), random.uniform(extent[1], extent[3]))\n",
    "            if point.within(row.geometry):\n",
    "                point_samples['huc'].append(row[huc_column_name][:8])\n",
    "                point_samples['geometry'].append(point)\n",
    "                cntr += 1\n",
    "\n",
    "    point_samples_gdf = gpd.GeoDataFrame(point_samples, crs=shed_gdf.crs)\n",
    "    \n",
    "    inter = gpd.overlay(point_samples_gdf, ssurgo_gdf, how='intersection')\n",
    "    \n",
    "    summary = inter.groupby(by='huc').mean()\n",
    "    for idx, row in summary.iterrows():\n",
    "        print(shed, 'sampling of aws0150 for watershed: ', idx, 'was: ', row['aws0150'])"
   ]
  },
  {
   "cell_type": "code",
   "execution_count": 57,
   "metadata": {},
   "outputs": [],
   "source": []
  },
  {
   "cell_type": "code",
   "execution_count": 61,
   "metadata": {},
   "outputs": [],
   "source": [
    "inter = gpd.overlay(point_samples_gdf, ssurgo_gdf, how='intersection')"
   ]
  },
  {
   "cell_type": "code",
   "execution_count": 69,
   "metadata": {},
   "outputs": [
    {
     "name": "stdout",
     "output_type": "stream",
     "text": [
      "wdbhuc12 sampling of aws0150 for watershed:  10190005 was:  11.024422310756975\n",
      "wdbhuc12 sampling of aws0150 for watershed:  10190006 was:  10.837808219178083\n",
      "wdbhuc12 sampling of aws0150 for watershed:  10190007 was:  10.725648535564854\n"
     ]
    }
   ],
   "source": []
  },
  {
   "cell_type": "code",
   "execution_count": 68,
   "metadata": {},
   "outputs": [
    {
     "data": {
      "text/html": [
       "<div>\n",
       "<style scoped>\n",
       "    .dataframe tbody tr th:only-of-type {\n",
       "        vertical-align: middle;\n",
       "    }\n",
       "\n",
       "    .dataframe tbody tr th {\n",
       "        vertical-align: top;\n",
       "    }\n",
       "\n",
       "    .dataframe thead th {\n",
       "        text-align: right;\n",
       "    }\n",
       "</style>\n",
       "<table border=\"1\" class=\"dataframe\">\n",
       "  <thead>\n",
       "    <tr style=\"text-align: right;\">\n",
       "      <th></th>\n",
       "      <th>aws0150</th>\n",
       "      <th>Shape_Length</th>\n",
       "      <th>Shape_Area</th>\n",
       "    </tr>\n",
       "    <tr>\n",
       "      <th>huc</th>\n",
       "      <th></th>\n",
       "      <th></th>\n",
       "      <th></th>\n",
       "    </tr>\n",
       "  </thead>\n",
       "  <tbody>\n",
       "    <tr>\n",
       "      <th>10190005</th>\n",
       "      <td>11.024422</td>\n",
       "      <td>23524.580339</td>\n",
       "      <td>4.164995e+06</td>\n",
       "    </tr>\n",
       "    <tr>\n",
       "      <th>10190006</th>\n",
       "      <td>10.837808</td>\n",
       "      <td>17515.119339</td>\n",
       "      <td>3.064778e+06</td>\n",
       "    </tr>\n",
       "    <tr>\n",
       "      <th>10190007</th>\n",
       "      <td>10.725649</td>\n",
       "      <td>36316.490198</td>\n",
       "      <td>6.082243e+06</td>\n",
       "    </tr>\n",
       "  </tbody>\n",
       "</table>\n",
       "</div>"
      ],
      "text/plain": [
       "            aws0150  Shape_Length    Shape_Area\n",
       "huc                                            \n",
       "10190005  11.024422  23524.580339  4.164995e+06\n",
       "10190006  10.837808  17515.119339  3.064778e+06\n",
       "10190007  10.725649  36316.490198  6.082243e+06"
      ]
     },
     "execution_count": 68,
     "metadata": {},
     "output_type": "execute_result"
    }
   ],
   "source": [
    "summary"
   ]
  },
  {
   "cell_type": "code",
   "execution_count": null,
   "metadata": {},
   "outputs": [],
   "source": []
  }
 ],
 "metadata": {
  "kernelspec": {
   "display_name": "Python 3",
   "language": "python",
   "name": "python3"
  },
  "language_info": {
   "codemirror_mode": {
    "name": "ipython",
    "version": 3
   },
   "file_extension": ".py",
   "mimetype": "text/x-python",
   "name": "python",
   "nbconvert_exporter": "python",
   "pygments_lexer": "ipython3",
   "version": "3.8.5"
  }
 },
 "nbformat": 4,
 "nbformat_minor": 4
}
