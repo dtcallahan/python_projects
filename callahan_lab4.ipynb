{
 "cells": [
  {
   "cell_type": "code",
   "execution_count": 1,
   "id": "a38ec266-2ca3-4166-8a29-4e4a4c59d744",
   "metadata": {},
   "outputs": [],
   "source": [
    "import numpy as np\n",
    "import rasterio\n",
    "from rasterio.plot import show, show_hist\n",
    "import glob\n",
    "from scipy.spatial import cKDTree"
   ]
  },
  {
   "cell_type": "code",
   "execution_count": 2,
   "id": "443f4647-d361-4ed6-9dcc-1e56340ec179",
   "metadata": {},
   "outputs": [],
   "source": [
    "def getMeanWindow(raster_list):\n",
    "    '''\n",
    "    Function that calculates the mean value of a raster(s) within a moving window. \n",
    "    Accepts a list of rasters, removes values less than zero, moves a window of 11x9 across an array,\n",
    "    calculates the mean within the window, and assigns the values to an output array.\n",
    "    '''\n",
    "    output_arrays = []\n",
    "    for raster in raster_list:\n",
    "        with rasterio.open(raster) as data:\n",
    "            array = data.read(1)\n",
    "            array = np.where(array < 0, 0, array)\n",
    "            mean_array = np.zeros_like(array)\n",
    "            for row in range(5, array.shape[0] - 5):\n",
    "                for col in range(4, array.shape[1] - 4):\n",
    "                    window = array[row: row + 11, col: col + 9]\n",
    "                    mean_array[row, col] = window.mean()\n",
    "            output_arrays.append(mean_array)\n",
    "    return(output_arrays)"
   ]
  },
  {
   "cell_type": "code",
   "execution_count": 3,
   "id": "fea98576-eca8-43b1-b276-ea95b0c44712",
   "metadata": {},
   "outputs": [
    {
     "data": {
      "text/plain": [
       "['C:\\\\Users\\\\delaney\\\\Desktop\\\\geog5092_workspace\\\\lab4\\\\data\\\\protected_areas.tif',\n",
       " 'C:\\\\Users\\\\delaney\\\\Desktop\\\\geog5092_workspace\\\\lab4\\\\data\\\\slope.tif',\n",
       " 'C:\\\\Users\\\\delaney\\\\Desktop\\\\geog5092_workspace\\\\lab4\\\\data\\\\urban_areas.tif',\n",
       " 'C:\\\\Users\\\\delaney\\\\Desktop\\\\geog5092_workspace\\\\lab4\\\\data\\\\water_bodies.tif',\n",
       " 'C:\\\\Users\\\\delaney\\\\Desktop\\\\geog5092_workspace\\\\lab4\\\\data\\\\ws80m.tif']"
      ]
     },
     "execution_count": 3,
     "metadata": {},
     "output_type": "execute_result"
    }
   ],
   "source": [
    "in_data_dir = r'C:\\Users\\delaney\\Desktop\\geog5092_workspace\\lab4\\data'\n",
    "out_data_dir = r'C:\\Users\\delaney\\Desktop\\geog5092_workspace\\lab4\\output_data'\n",
    "\n",
    "tifs = glob.glob(in_data_dir + r'\\*.tif')\n",
    "remove1 = tifs.pop(1)\n",
    "remove2 = tifs.pop(2)\n",
    "\n",
    "tifs"
   ]
  },
  {
   "cell_type": "code",
   "execution_count": 4,
   "id": "005b23cb-b398-4038-a6db-873c7f1c2427",
   "metadata": {
    "tags": []
   },
   "outputs": [],
   "source": [
    "output_arrays = getMeanWindow(tifs)"
   ]
  },
  {
   "cell_type": "code",
   "execution_count": 5,
   "id": "84a68982-b35d-462f-b089-30a8ca3fe3ef",
   "metadata": {
    "tags": []
   },
   "outputs": [],
   "source": [
    "#evaluate each of the criteria to produce 5 seperate Boolean arrays\n",
    "\n",
    "wild_boolean = np.where(output_arrays[0] < 0.05, 1, 0)\n",
    "slope_boolean = np.where(output_arrays[1] < 15, 1, 0)\n",
    "urban_boolean = np.where(output_arrays[2] == 1, 0, 1)\n",
    "water_boolean = np.where(output_arrays[3] < 0.02, 1, 0)\n",
    "wind_boolean = np.where(output_arrays[4] > 8.5, 1, 0)"
   ]
  },
  {
   "cell_type": "code",
   "execution_count": 6,
   "id": "f4fac1ec-71b8-4b4e-b590-a484b9693363",
   "metadata": {},
   "outputs": [
    {
     "data": {
      "image/png": "[encoded data removed]",
      "text/plain": [
       "<Figure size 432x288 with 1 Axes>"
      ]
     },
     "metadata": {
      "needs_background": "light"
     },
     "output_type": "display_data"
    },
    {
     "data": {
      "text/plain": [
       "<AxesSubplot:>"
      ]
     },
     "execution_count": 6,
     "metadata": {},
     "output_type": "execute_result"
    }
   ],
   "source": [
    "#sum the booleans for suitable sites\n",
    "\n",
    "sum_boolean = wild_boolean + slope_boolean + urban_boolean + water_boolean + wind_boolean\n",
    "suitable_sites = np.where(sum_boolean == 5, 1, 0)\n",
    "\n",
    "show(suitable_sites)"
   ]
  },
  {
   "cell_type": "code",
   "execution_count": 7,
   "id": "942c9435-10e8-4ce7-8be2-97e8a6558085",
   "metadata": {},
   "outputs": [],
   "source": [
    "#convert to a geotiff raster\n",
    "\n",
    "sample_tif = rasterio.open(tifs[0])\n",
    "\n",
    "with rasterio.open(out_data_dir + r'\\suitable_sites.tif', 'w',\n",
    "                   driver = 'GTiff',\n",
    "                   height = suitable_sites.shape[0],\n",
    "                   width = suitable_sites.shape[1],\n",
    "                   count = 1,\n",
    "                   dtype = 'int8',\n",
    "                   transform = sample_tif.transform,\n",
    "                   crs = sample_tif.crs,\n",
    "                   nodata = sample_tif.nodata\n",
    ") as out_raster:\n",
    "    suitable_sites = suitable_sites.astype('int8')\n",
    "    out_raster.write(suitable_sites, indexes = 1)"
   ]
  },
  {
   "cell_type": "code",
   "execution_count": 8,
   "id": "8f448da1-acd1-47fa-aa33-ccb0b5928ec7",
   "metadata": {},
   "outputs": [
    {
     "name": "stdout",
     "output_type": "stream",
     "text": [
      "There are 753 suitable sites for a wind farm according to the specified criteria.\n"
     ]
    }
   ],
   "source": [
    "#final print statement for part 1:\n",
    "\n",
    "print('There are', suitable_sites.sum(), 'suitable sites for a wind farm according to the specified criteria.')"
   ]
  },
  {
   "cell_type": "code",
   "execution_count": 9,
   "id": "c3725162-9258-43f2-8bbc-1ac6f0d790fd",
   "metadata": {},
   "outputs": [],
   "source": [
    "#extracting transmission station coordinate pairs\n",
    "\n",
    "with open(in_data_dir + r'\\transmission_stations.txt') as fhand:\n",
    "    station_coords = []\n",
    "    txt_list = [line.rstrip() for line in fhand]\n",
    "    for item in txt_list[1:]:\n",
    "        item = item.split(',')\n",
    "        station_coords.append((float(item[0]), float(item[1])))\n",
    "    \n",
    "    stations_array = np.array(station_coords)"
   ]
  },
  {
   "cell_type": "code",
   "execution_count": 10,
   "id": "f19a342c-001d-4bfa-95ad-08dd1d4c42ad",
   "metadata": {},
   "outputs": [],
   "source": [
    "#creating centroid points for suitable sites and performing nearest neighbor\n",
    "\n",
    "with rasterio.open(out_data_dir + r'\\suitable_sites.tif') as suitable_sites:\n",
    "    cell_size = suitable_sites.transform[0]\n",
    "    extent = suitable_sites.bounds\n",
    "\n",
    "    center_x = np.arange(extent[0] + cell_size / 2, extent[2], cell_size)\n",
    "    center_y = np.arange(extent[1] + cell_size / 2, extent[3], cell_size)\n",
    "\n",
    "    x,y = np.meshgrid(center_x, center_y)\n",
    "    centroids = np.c_[x.flatten(), y.flatten()]\n",
    "\n",
    "    dist, indexes = cKDTree(stations_array).query(centroids)"
   ]
  },
  {
   "cell_type": "code",
   "execution_count": 12,
   "id": "e63e0ff1-ec70-495b-84cf-5974b3209b47",
   "metadata": {},
   "outputs": [
    {
     "name": "stdout",
     "output_type": "stream",
     "text": [
      "Shortest distance from a suitable site to a transmission station = 659876.95 meters\n",
      "Longest distance from a suitable site to a transmission station = 13.4 meters\n"
     ]
    }
   ],
   "source": [
    "#final print statement for part 2:\n",
    "\n",
    "print('Shortest distance from a suitable site to a transmission station =', round(dist.max(), 2), 'meters')\n",
    "print('Longest distance from a suitable site to a transmission station =', round(dist.min(), 2), 'meters')"
   ]
  }
 ],
 "metadata": {
  "kernelspec": {
   "display_name": "Python 3 (ipykernel)",
   "language": "python",
   "name": "python3"
  },
  "language_info": {
   "codemirror_mode": {
    "name": "ipython",
    "version": 3
   },
   "file_extension": ".py",
   "mimetype": "text/x-python",
   "name": "python",
   "nbconvert_exporter": "python",
   "pygments_lexer": "ipython3",
   "version": "3.7.10"
  }
 },
 "nbformat": 4,
 "nbformat_minor": 5
}
